import tensorflow as tf
import numpy as np
import os
import cv2
import imghdr
from matplotlib import pyplot as plt
from tensorflow.keras import models, layers, metrics


for gpu in tf.config.experimental.list_physical_devices('GPU'):
    tf.config.experimental.set_memory_growth(gpu, True)
