{
 "cells": [
  {
   "cell_type": "markdown",
   "id": "a31048e5-a40b-4c30-a76c-9c1cb507f78d",
   "metadata": {},
   "source": [
    "# Import Dependencies and Setup"
   ]
  },
  {
   "cell_type": "code",
   "execution_count": 1,
   "id": "89a07693-5f8a-4b4d-8f6b-54d013e6c021",
   "metadata": {},
   "outputs": [],
   "source": [
    "import tensorflow as tf\n",
    "import numpy as np\n",
    "import os\n",
    "import cv2\n",
    "import imghdr\n",
    "from matplotlib import pyplot as plt\n",
    "from tensorflow.keras import models, layers, metrics"
   ]
  },
  {
   "cell_type": "code",
   "execution_count": 4,
   "id": "b736040c-eda3-47ac-af16-c2febbe2ef8f",
   "metadata": {},
   "outputs": [],
   "source": [
    "for gpu in tf.config.experimental.list_physical_devices('GPU'):\n",
    "    tf.config.experimental.set_memory_growth(gpu, True)"
   ]
  },
  {
   "cell_type": "markdown",
   "id": "6927f9c5-2fa3-4706-b5b6-70a2a8d26800",
   "metadata": {},
   "source": [
    "# Preprocess Data"
   ]
  },
  {
   "cell_type": "code",
   "execution_count": 7,
   "id": "f9429d86-0a19-4d1d-9bdb-2fe8082db6b9",
   "metadata": {},
   "outputs": [
    {
     "name": "stdout",
     "output_type": "stream",
     "text": [
      "Complete!\n"
     ]
    }
   ],
   "source": [
    "data_dir = os.listdir('data')\n",
    "image_exts = ['jpeg', 'jpg', 'png', 'bmp']\n",
    "for data in data_dir: \n",
    "    for image_class in os.listdir(os.path.join('data', data)):\n",
    "        for image in os.listdir(os.path.join('data', data, image_class)):\n",
    "            image_path = os.path.join('data', data, image_class, image)\n",
    "            try:\n",
    "                img = cv2.imread(image_path)\n",
    "                typ = imghdr.what(image_path)\n",
    "                if typ not in image_exts:\n",
    "                    print('Image not in ext list {}'.format(image_path))\n",
    "                    os.remove(image_path)\n",
    "            except Exception as e:\n",
    "                print('Issue with image {}'.format(image_path))\n",
    "                #os.remove(image_path)\n",
    "print('Complete!')"
   ]
  },
  {
   "cell_type": "markdown",
   "id": "4fb7e1e1-a08b-4a05-9ae2-364a97662c24",
   "metadata": {},
   "source": [
    "# Load Data"
   ]
  },
  {
   "cell_type": "code",
   "execution_count": null,
   "id": "fe4393ea-06ad-48a2-8bbf-c07bf44de47d",
   "metadata": {},
   "outputs": [],
   "source": []
  }
 ],
 "metadata": {
  "kernelspec": {
   "display_name": "snapchef",
   "language": "python",
   "name": "snapchef"
  },
  "language_info": {
   "codemirror_mode": {
    "name": "ipython",
    "version": 3
   },
   "file_extension": ".py",
   "mimetype": "text/x-python",
   "name": "python",
   "nbconvert_exporter": "python",
   "pygments_lexer": "ipython3",
   "version": "3.9.21"
  }
 },
 "nbformat": 4,
 "nbformat_minor": 5
}
